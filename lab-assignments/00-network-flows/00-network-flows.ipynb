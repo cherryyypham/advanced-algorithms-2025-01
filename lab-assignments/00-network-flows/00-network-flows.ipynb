{
 "cells": [
  {
   "cell_type": "markdown",
   "metadata": {},
   "source": [
    "# Network Flows Lab\n",
    "\n",
    "The goal of this lab is to gain some experience with applying network flows to existing problems. \n",
    "\n",
    "The following problem is adapted from [CSES 1711](https://cses.fi/problemset/task/1711):\n",
    "\n",
    "Before beginning, the following cell contains any dependencies you may need for this assignment. \n"
   ]
  },
  {
   "cell_type": "code",
   "execution_count": 4,
   "metadata": {},
   "outputs": [],
   "source": [
    "import networkx as nx\n",
    "import numpy as np\n",
    "import pandas as pd\n",
    "import matplotlib.pyplot as plt\n",
    "from ortools.graph.python import max_flow"
   ]
  },
  {
   "cell_type": "markdown",
   "metadata": {},
   "source": [
    "*[Ortools](https://or-tools.github.io/docs/pdoc/ortools/graph/python/max_flow.html) is the library that we will be using to help solve the network flows problems."
   ]
  },
  {
   "cell_type": "markdown",
   "metadata": {},
   "source": [
    "## Background Info\n",
    "A game consists of 6 rooms and 7 teleporters. At the beginning of the day, you start in room 0 and have to reach room 5. \n",
    "\n",
    "You can use each teleporter at most once during the game. How many days can you play if you choose your routes optimally?\n",
    "\n",
    "The lines below represent the connections between the rooms. Each line has two integers: $a$ and $b$. There is a teleporter from room $a$ to room $b$.\n",
    "\n",
    "0 1 \\\n",
    "0 2 \\\n",
    "1 5 \\\n",
    "2 3 \\\n",
    "2 4 \\\n",
    "3 5 \\\n",
    "4 5 \n",
    "\n",
    "## Questions\n",
    "a. Determine the maximum number of days you can play the game. \\\n",
    "b. Write out the route descriptions; this can be any valid solution.\n"
   ]
  },
  {
   "cell_type": "markdown",
   "metadata": {},
   "source": [
    "## Graph Setup\n",
    "\n",
    "First, let's set up our network flow problem in a format that's more familiar: nodes and edges. \n",
    "\n",
    "Each room represents a node and each teleporter represents an edge. Given that knowledge, fill out the `start_nodes` and `end_nodes` numpy arrays."
   ]
  },
  {
   "cell_type": "code",
   "execution_count": 22,
   "metadata": {},
   "outputs": [],
   "source": [
    "start_nodes = np.array([0, 0, 1, 2, 2, 3, 4])\n",
    "end_nodes = np.array([1, 2, 5, 3, 4, 5, 5])"
   ]
  },
  {
   "cell_type": "markdown",
   "metadata": {},
   "source": [
    "Now that we have populated our start and end nodes, we have to think about the capacities for each edge.\n",
    "\n",
    "In this version of the problem, remember that each teleporter can only be used once."
   ]
  },
  {
   "cell_type": "code",
   "execution_count": 8,
   "metadata": {},
   "outputs": [],
   "source": [
    "capacities = [1] * len(start_nodes)  # Each teleporter can be used once"
   ]
  },
  {
   "cell_type": "markdown",
   "metadata": {},
   "source": [
    "The cell below populates the information you have collected into a graph:"
   ]
  },
  {
   "cell_type": "code",
   "execution_count": 9,
   "metadata": {},
   "outputs": [
    {
     "name": "stderr",
     "output_type": "stream",
     "text": [
      "/var/folders/tv/r11p_97n1pj07q4jqfpjv5440000gn/T/ipykernel_19839/2903003259.py:10: FutureWarning: Series.__getitem__ treating keys as positions is deprecated. In a future version, integer keys will always be treated as labels (consistent with DataFrame behavior). To access a value by position, use `ser.iloc[pos]`\n",
      "  g.add_edge(elrow[0], elrow[1], weight=elrow[2])\n"
     ]
    },
    {
     "data": {
      "image/png": "[encoded data removed]",
      "text/plain": [
       "<Figure size 640x480 with 1 Axes>"
      ]
     },
     "metadata": {},
     "output_type": "display_data"
    }
   ],
   "source": [
    "# Create an edgelist dataframe\n",
    "edgelist_df = pd.DataFrame({'node1':start_nodes, 'node2':end_nodes,\n",
    "                            'weights':capacities\n",
    "                           })\n",
    "edgelist_df\n",
    "\n",
    "# Create a graph and add edges\n",
    "g = nx.DiGraph()\n",
    "for i, elrow in edgelist_df.iterrows():\n",
    "    g.add_edge(elrow[0], elrow[1], weight=elrow[2])\n",
    "g.edges(data=True)\n",
    "\n",
    "# Add nodes to graph\n",
    "g.add_node(0, pos=(0, 1))\n",
    "g.add_node(1, pos=(0, 0))\n",
    "g.add_node(2, pos=(1, 1))\n",
    "g.add_node(3, pos=(1, 0))\n",
    "g.add_node(4, pos=(2, 1))\n",
    "g.add_node(5, pos=(2, 0))\n",
    "g.nodes(data=True)\n",
    "\n",
    "# Display graph\n",
    "pos = nx.get_node_attributes(g,'pos')\n",
    "weight = nx.get_edge_attributes(g,'weight') \n",
    "nx.draw(g,pos, with_labels=True)\n",
    "nx.draw_networkx_edge_labels(g,pos,edge_labels = weight)\n",
    "plt.show()"
   ]
  },
  {
   "cell_type": "markdown",
   "metadata": {},
   "source": [
    "## A. Determine Maximum \\# of Days You Can Play\n",
    "The maximum # of days you can play the game can be represented by the maximum flow of the graph we just created. \n",
    "\n",
    "Since you can only use each teleporter once, each path taken cannot share edges. These are called **disjoint paths**. \n",
    "\n",
    "The maximum # of disjoint paths between two nodes is equal to the maximum flow according to the max flow min cut theorem we went over in class (NF Day 1)."
   ]
  },
  {
   "cell_type": "markdown",
   "metadata": {},
   "source": [
    "In the following cell, use a simple max flow solver to calculate the maximum flow of the graph you created.\n",
    "\n",
    "Helpful information: \n",
    "- Ortools documentation, including functions you will need, can be found [here](https://or-tools.github.io/docs/pdoc/ortools/graph/python/max_flow.html)\n",
    "- An arc consists of a start node, an end node, and a capacity (or flow) from the start to the end node"
   ]
  },
  {
   "cell_type": "code",
   "execution_count": null,
   "metadata": {},
   "outputs": [
    {
     "name": "stdout",
     "output_type": "stream",
     "text": [
      "Maximum number of days you can play: 2\n"
     ]
    }
   ],
   "source": [
    "# Instantiate a SimpleMaxFlow solver.\n",
    "smf = max_flow.SimpleMaxFlow()\n",
    "\n",
    "# Add arcs with capacities to the solver; this can be done either in bulk or one by one.\n",
    "all_arcs = [(start_nodes[i], end_nodes[i], capacities[i]) for i in range(len(start_nodes))]\n",
    "\n",
    "for start, end, capacity in all_arcs:\n",
    "    smf.add_arc_with_capacity(start, end, capacity)\n",
    "\n",
    "# Source & sink node\n",
    "source = 0\n",
    "sink = 5\n",
    "\n",
    "# Solve max-flow from source to sink\n",
    "status = smf.solve(source, sink)\n",
    "\n",
    "# Display max-flow value\n",
    "if status == smf.OPTIMAL:\n",
    "    print(\"Maximum number of days you can play:\", smf.optimal_flow())\n",
    "else:\n",
    "    print(\"There was an issue solving the max-flow problem.\")\n"
   ]
  },
  {
   "cell_type": "markdown",
   "metadata": {},
   "source": [
    "## B. Route Descriptions\n",
    "To ge the route descriptions, we need to extract the disjoint paths from our solution."
   ]
  },
  {
   "cell_type": "markdown",
   "metadata": {},
   "source": [
    "First, let's get the flow values for each arc: "
   ]
  },
  {
   "cell_type": "code",
   "execution_count": 23,
   "metadata": {},
   "outputs": [],
   "source": [
    "solution_flows = smf.flows(all_arcs)"
   ]
  },
  {
   "cell_type": "markdown",
   "metadata": {},
   "source": [
    "Next, we need to identify the disjoint paths by checking the flow values. This can be done by traversing the graph starting from the source and following each path, keeping track of the arcs we've already used \n",
    "\n",
    "Start with a given node and iterate thorugh the graph until you have reached the final node. \n",
    "\n",
    "Helpful information:\n",
    "- `smf.tail(arc)` should give a start_node\n",
    "- `smf.head(arc)` should give a corresponding end_node\n",
    "- You can add to a set with `set.add(item)`\n",
    "- Remember to append to your path where you have visited!\n"
   ]
  },
  {
   "cell_type": "code",
   "execution_count": 20,
   "metadata": {},
   "outputs": [],
   "source": [
    "used_arcs = set() # data structure to store used paths\n",
    "def find_path(start_node):\n",
    "    path = [start_node] \n",
    "    current_node = start_node\n",
    "\n",
    "    # Iterate through the graph from the starting node to the sink\n",
    "    while current_node != sink:\n",
    "        for arc in range(smf.num_arcs()):\n",
    "            # For each arc, check if there is a solution that is not in used_arcs\n",
    "            if smf.flow(arc) > 0 and arc not in used_arcs:\n",
    "                tail, head = smf.tail(arc), smf.head(arc)\n",
    "\n",
    "                if tail == current_node:\n",
    "                    # If there is, add the start and end nodes to the path & the arc itself to used arcs\n",
    "                    path.append(head)\n",
    "                    used_arcs.add(arc)\n",
    "                    current_node = head\n",
    "                    break\n",
    "        else:\n",
    "            break\n",
    "\n",
    "    return path"
   ]
  },
  {
   "cell_type": "markdown",
   "metadata": {},
   "source": [
    "You've calculated paths at this point, but now, you need to print your results. \n",
    "This is also a good way to check whether your results are logical. \n",
    "\n",
    "*Repeting nodes (ex 1 -> 2 -> 2 -> 3) is fine to represent 1 -> 2 -> 3."
   ]
  },
  {
   "cell_type": "code",
   "execution_count": 21,
   "metadata": {},
   "outputs": [
    {
     "name": "stdout",
     "output_type": "stream",
     "text": [
      "0 -> 1 -> 5\n",
      "0 -> 2 -> 3 -> 5\n"
     ]
    }
   ],
   "source": [
    "disjoint_paths = []\n",
    "# Iterate through the results of your optimal flow\n",
    "while True:\n",
    "    path = find_path(0)\n",
    "    # Add the path to disjointed_paths\n",
    "    if len(path) > 1:\n",
    "        disjoint_paths.append(path)\n",
    "    else:\n",
    "        break \n",
    "\n",
    "# Prints the paths\n",
    "for path in disjoint_paths:\n",
    "    print (\" -> \".join(map(str, path)))"
   ]
  }
 ],
 "metadata": {
  "kernelspec": {
   "display_name": "venv",
   "language": "python",
   "name": "python3"
  },
  "language_info": {
   "codemirror_mode": {
    "name": "ipython",
    "version": 3
   },
   "file_extension": ".py",
   "mimetype": "text/x-python",
   "name": "python",
   "nbconvert_exporter": "python",
   "pygments_lexer": "ipython3",
   "version": "3.9.6"
  }
 },
 "nbformat": 4,
 "nbformat_minor": 2
}
