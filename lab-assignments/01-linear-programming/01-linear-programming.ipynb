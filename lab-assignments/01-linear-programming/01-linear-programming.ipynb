{
 "cells": [
  {
   "cell_type": "markdown",
   "id": "20f94e96",
   "metadata": {},
   "source": [
    "\n",
    "# Linear Programming Lab\n",
    "\n",
    "## Total: 40 points\n",
    "\n",
    "In this lab, you will explore a useful extension of linear programming duality (covered in class\n",
    "LP Day 1) called linear programming sensitivity analysis. Here, we aim to find:\n",
    "\n",
    "- How does the solution change when the objective function changes?\n",
    "- How does the solution change when the resource limits change?\n",
    "- How does the solution change when a constraint is added to the problem?\n",
    "\n",
    "One approach to these types of questions is solving lots of slightly different linear programming problems. This method would work, but it is inelegant and (for large problems) computationally expensive (but in most cases today, computation is cheap and computing solutions to many problems is a standard technique to study sensitivity in practice). However, there is a more elegant solution\n",
    "that gives these answers just by examining the dual information provided by the Simplex Algorithm.\n",
    "\n",
    "**Consider the following scenario:** An instrument company makes trombones and trumpets. A trombone requires 40 square inches of metal sheet and a trumpet requires 30 square inches of metal. Metal costs $1 per square inch and 40,000 square inches are available. It takes two hours of skilled labor to make a novice quality trombone or a novice quality trumpet. Three more hours of skilled labor will turn a novice quality trombone into a professional trombone. Two more hours of skilled labor will turn a novice quality trumpet into a professional trumpet. There are 6000 hours of skilled labor available. Assume that you do not need to pay for labor. Assume that you can sell fractional trombones and trumpets. The market selling prices and production costs are given in the following table:\n",
    "\n",
    "| Product    | Market Price | Cost (metal $1/sq.in.) |\n",
    "| -------- | ------- | ------- |\n",
    "| Novice Trombone | $70 | $40 |\n",
    "| Professional Trombone | $140 | $40 |\n",
    "| Novice Trumpet | $60 | $30 |\n",
    "| Professional Trumpet | $110 | $30 |\n",
    "\n",
    "---\n"
   ]
  },
  {
   "cell_type": "markdown",
   "id": "8c34dead",
   "metadata": {},
   "source": [
    "# Problem 1: Formulate the LP (5 points)\n",
    "## 1a: Set up the LP (3 points)\n",
    "\n",
    "Write an objective function that maximizes profits (market price - production costs) and all constraints.\n",
    "\n",
    "### Instructions\n",
    "- Write the equations, using LaTeX, between the $$ tags. Then convert the LP problem into code by referring to this documentation: [PuLP Guide](https://realpython.com/linear-programming-python/#using-pulp)"
   ]
  },
  {
   "cell_type": "markdown",
   "id": "c30746dd",
   "metadata": {},
   "source": [
    "### Solution:\n",
    "Objective Function: $$ Z = 30NT + 100PT + 30NTr + 80PTr $$\n",
    "Constraints:\n",
    "- Metal usage constraint: $$ 40NT + 40PT + 30NTr + 30PTr \\leq 40000 $$\n",
    "- Labor usage constraint: $$ 2NT + 5PT + 2NTr + 4PTr \\leq 6000 $$\n",
    "- Non-negativity constraint: $$ NT, PT, NTr, PTr \\geq 0 $$"
   ]
  },
  {
   "cell_type": "code",
   "execution_count": 91,
   "id": "592d8519",
   "metadata": {},
   "outputs": [],
   "source": [
    "from pulp import LpMaximize, LpProblem, LpVariable, LpStatus, PULP_CBC_CMD\n",
    "import copy\n",
    "\n",
    "# Define the problem\n",
    "main_model = LpProblem(name=\"instrument-production\", sense=LpMaximize) # (please do not rename this variable as it's used later in the notebook)\n",
    "\n",
    "# Define variables\n",
    "x1 = LpVariable(name=\"x1\", lowBound=0)  # Novice Trombone (NT)\n",
    "x2 = LpVariable(name=\"x2\", lowBound=0)  # Professional Trombone (PT)\n",
    "x3 = LpVariable(name=\"x3\", lowBound=0)  # Novice Trumpet (NTr)\n",
    "x4 = LpVariable(name=\"x4\", lowBound=0)  # Professional Trumpet (PTr)\n",
    "\n",
    "# Objective function\n",
    "main_model += 30*x1 + 100*x2 + 30*x3 + 80*x4, \"Profit\"\n",
    "\n",
    "# Constraints\n",
    "# 1. Total metal sheet used\n",
    "main_model += 40*x1 + 40*x2 + 30*x3 + 30*x4 <= 40000, \"Metal Sheet Constraint\"\n",
    "\n",
    "# 2. Total skilled labor hours used\n",
    "main_model += 2*x1 + 5*x2 + 2*x3 + 4*x4 <= 6000, \"Skilled Labor Constraint\"\n",
    "\n",
    "# 3. Non-negativity constraints (already enforced by lowBound=0 in variable definition)"
   ]
  },
  {
   "cell_type": "markdown",
   "id": "e1fa5efc",
   "metadata": {},
   "source": [
    "## 1b) Solve the LP Computationally (1 point)\n",
    "Use the model we created above to find the optimal profit. Run the code block below to solve the problem."
   ]
  },
  {
   "cell_type": "markdown",
   "id": "b8ee79ad",
   "metadata": {},
   "source": [
    "### Solution:\n",
    "\n",
    "Optimal Profit: $106666.67"
   ]
  },
  {
   "cell_type": "code",
   "execution_count": 19,
   "id": "a1e36d90",
   "metadata": {},
   "outputs": [
    {
     "name": "stdout",
     "output_type": "stream",
     "text": [
      "Welcome to the CBC MILP Solver \n",
      "Version: 2.10.3 \n",
      "Build Date: Dec 15 2019 \n",
      "\n",
      "command line - /Users/cherrypham/Downloads/STAPLES/CODE/advanced-algorithms-2025-01/lab-assignments/01-linear-programming/venv/lib/python3.9/site-packages/pulp/solverdir/cbc/osx/64/cbc /var/folders/tv/r11p_97n1pj07q4jqfpjv5440000gn/T/b82cfb25bd3942f9a1767d828ed20a7f-pulp.mps -max -timeMode elapsed -branch -printingOptions all -solution /var/folders/tv/r11p_97n1pj07q4jqfpjv5440000gn/T/b82cfb25bd3942f9a1767d828ed20a7f-pulp.sol (default strategy 1)\n",
      "At line 2 NAME          MODEL\n",
      "At line 3 ROWS\n",
      "At line 7 COLUMNS\n",
      "At line 20 RHS\n",
      "At line 23 BOUNDS\n",
      "At line 24 ENDATA\n",
      "Problem MODEL has 2 rows, 4 columns and 8 elements\n",
      "Coin0008I MODEL read with 0 errors\n",
      "Option for timeMode changed from cpu to elapsed\n",
      "Presolve 2 (0) rows, 4 (0) columns and 8 (0) elements\n",
      "0  Obj -0 Dual inf 270 (4)\n",
      "0  Obj -0 Dual inf 270 (4)\n",
      "1  Obj 106666.67\n",
      "Optimal - objective value 106666.67\n",
      "Optimal objective 106666.6667 - 1 iterations time 0.002\n",
      "Option for printingOptions changed from normal to all\n",
      "Total time (CPU seconds):       0.00   (Wallclock seconds):       0.01\n",
      "\n"
     ]
    },
    {
     "data": {
      "text/plain": [
       "1"
      ]
     },
     "execution_count": 19,
     "metadata": {},
     "output_type": "execute_result"
    }
   ],
   "source": [
    "# Solve the problem\n",
    "main_model.solve()"
   ]
  },
  {
   "cell_type": "markdown",
   "id": "1bc7a7aa",
   "metadata": {},
   "source": [
    "## 1c.) What is the optimal number of each instrument to produce? (1 point)\n",
    "Run the code cell below to find the optimal value for each variable in the model. Fill in the table below.\n",
    "### Solution:\n",
    "\n",
    "| Variable    | Value |\n",
    "| -------- | ------- |\n",
    "| x1 | 0 |\n",
    "| x2 | 0 |\n",
    "| x3 | 0 |\n",
    "| x4 | 1333.333 |"
   ]
  },
  {
   "cell_type": "code",
   "execution_count": 20,
   "id": "7997d85f",
   "metadata": {},
   "outputs": [
    {
     "name": "stdout",
     "output_type": "stream",
     "text": [
      "x1 0.0\n",
      "x2 0.0\n",
      "x3 0.0\n",
      "x4 1333.3333\n"
     ]
    }
   ],
   "source": [
    "for var in main_model.variables():\n",
    "    print(var.name, var.value())"
   ]
  },
  {
   "cell_type": "markdown",
   "id": "17cfb887",
   "metadata": {},
   "source": [
    "# Problem 2: Sensitivity of Novice Quality Trumpets (5 points)\n",
    "\n",
    "## 2a) (2 points)\n",
    "\n",
    "What would happen if the market price of novice quality trumpets went up? In other words, how much can the market price coefficient in the objective function change without causing the optimal basis to change? This is also called “allowable increase.” You are provided a helper function to find the allowable increase. Try messing with the parameters and looking at the source code in the `helpers.py` file to understand how it works."
   ]
  },
  {
   "cell_type": "markdown",
   "id": "ca1b30dd",
   "metadata": {},
   "source": [
    "### Solution:\n",
    "\n",
    "The allowable increase in the profit coefficient is approximately $50. This means:\n",
    "\n",
    "- Current selling price: $60 (profit = $30)\n",
    "- Maximum price before basis change: $110 (profit = $80)\n",
    "- At this point, novice trumpets become equally attractive as professional trumpets"
   ]
  },
  {
   "cell_type": "code",
   "execution_count": 21,
   "id": "21680bc7",
   "metadata": {},
   "outputs": [
    {
     "name": "stdout",
     "output_type": "stream",
     "text": [
      "Iteration 1: Coefficient of x3: 60, Objective value: 106666.664, Solution: {'x1': 0.0, 'x2': 0.0, 'x3': 0.0, 'x4': 1333.3333}\n",
      "----------------------------------------\n",
      "Iteration 2: Coefficient of x3: 65, Objective value: 106666.664, Solution: {'x1': 0.0, 'x2': 0.0, 'x3': 0.0, 'x4': 1333.3333}\n",
      "----------------------------------------\n",
      "Iteration 3: Coefficient of x3: 70, Objective value: 106666.664, Solution: {'x1': 0.0, 'x2': 0.0, 'x3': 0.0, 'x4': 1333.3333}\n",
      "----------------------------------------\n",
      "Iteration 4: Coefficient of x3: 75, Objective value: 106666.664, Solution: {'x1': 0.0, 'x2': 0.0, 'x3': 0.0, 'x4': 1333.3333}\n",
      "----------------------------------------\n",
      "Iteration 5: Coefficient of x3: 80, Objective value: 106666.664, Solution: {'x1': 0.0, 'x2': 0.0, 'x3': 0.0, 'x4': 1333.3333}\n",
      "----------------------------------------\n",
      "Iteration 6: Coefficient of x3: 85, Objective value: 106666.664, Solution: {'x1': 0.0, 'x2': 0.0, 'x3': 0.0, 'x4': 1333.3333}\n",
      "----------------------------------------\n",
      "Iteration 7: Coefficient of x3: 90, Objective value: 106666.664, Solution: {'x1': 0.0, 'x2': 0.0, 'x3': 0.0, 'x4': 1333.3333}\n",
      "----------------------------------------\n",
      "Iteration 8: Coefficient of x3: 95, Objective value: 106666.664, Solution: {'x1': 0.0, 'x2': 0.0, 'x3': 0.0, 'x4': 1333.3333}\n",
      "----------------------------------------\n",
      "Iteration 9: Coefficient of x3: 100, Objective value: 106666.664, Solution: {'x1': 0.0, 'x2': 0.0, 'x3': 0.0, 'x4': 1333.3333}\n",
      "----------------------------------------\n",
      "Iteration 10: Coefficient of x3: 105, Objective value: 106666.664, Solution: {'x1': 0.0, 'x2': 0.0, 'x3': 0.0, 'x4': 1333.3333}\n",
      "----------------------------------------\n",
      "Iteration 11: Coefficient of x3: 110, Objective value: 106666.664, Solution: {'x1': 0.0, 'x2': 0.0, 'x3': 1333.3333, 'x4': 0.0}\n",
      "----------------------------------------\n",
      "Optimal basis changed at coefficient 110.\n",
      "\n",
      "The allowable increase for x3 is: 50\n"
     ]
    }
   ],
   "source": [
    "from helpers import find_allowable_increase\n",
    "# Run the helper to find the allowable increase for x3\n",
    "allowable_increase = find_allowable_increase(base_model=main_model, var_name=\"x3\", base_coef=60, step=5)\n",
    "\n",
    "print(f\"The allowable increase for x3 is: {allowable_increase}\")"
   ]
  },
  {
   "cell_type": "markdown",
   "id": "04e9faf4",
   "metadata": {},
   "source": [
    "## 2b) (2 points)\n",
    "Would novice trumpets be more profitable than professional trumpets to produce if novice trumpets sold for the same amount as professional quality trumpets?"
   ]
  },
  {
   "cell_type": "markdown",
   "id": "e5f111b0",
   "metadata": {},
   "source": [
    "### Solution:\n",
    "As you can see from the output right above, as x3's coefficient's value reaches 80 (price - material), it is more profitable to produce novice trumpets if they are sold for the same amount as professional trumpets. In a logical sense, this is understandable since it takes less time for novice trumpets to be made compared to professional ones while material for novice trumpets cost the same as professional ones. Thus, if novice and professional trumpets make the same profit per sale, it is more profitable to sell novice ones since more of them can be made with the same amount of time. "
   ]
  },
  {
   "cell_type": "markdown",
   "id": "f8ec6827",
   "metadata": {},
   "source": [
    "## 2c) (1 point)\n",
    "What would change if the price went down?"
   ]
  },
  {
   "cell_type": "markdown",
   "id": "44757e81",
   "metadata": {},
   "source": [
    "### Solution:\n",
    "Maximum profit and most profitable product to make would stay the same (to be professional trumpets) because lowering the price of novice trumpets would only make them less profitable and less desirable to make. In addition, the algorithm determines that it's most profitable to only produce professional trumpets so lowering the price of novice woudl not change anything, especially since the objective function does not consider demand."
   ]
  },
  {
   "cell_type": "markdown",
   "id": "8eca32b7",
   "metadata": {},
   "source": [
    "# Problem 3: Sensitivity of Novice Quality Trombones (5 points)\n",
    "\n",
    "## 3a) (2 points)\n",
    "\n",
    "What would happen if the market price of novice quality trombones went up? In other words, what is the “allowable increase” in the market price of novice quality trombones?\n"
   ]
  },
  {
   "cell_type": "markdown",
   "id": "e8b6a92f",
   "metadata": {},
   "source": [
    "### Solution:\n",
    "The price increase of novice quality trombones does not influence the most profitable product to make unless that price is increased by $77 to $107."
   ]
  },
  {
   "cell_type": "code",
   "execution_count": 23,
   "id": "96bdc967",
   "metadata": {},
   "outputs": [
    {
     "name": "stderr",
     "output_type": "stream",
     "text": [
      "/Users/cherrypham/Downloads/STAPLES/CODE/advanced-algorithms-2025-01/lab-assignments/01-linear-programming/venv/lib/python3.9/site-packages/pulp/pulp.py:1650: UserWarning: Overwriting previously set objective.\n",
      "  warnings.warn(\"Overwriting previously set objective.\")\n"
     ]
    },
    {
     "name": "stdout",
     "output_type": "stream",
     "text": [
      "Iteration 1: Coefficient of x1: 30, Objective value: 106666.664, Solution: {'x1': 0.0, 'x2': 0.0, 'x3': 0.0, 'x4': 1333.3333}\n",
      "----------------------------------------\n",
      "Iteration 2: Coefficient of x1: 31, Objective value: 106666.664, Solution: {'x1': 0.0, 'x2': 0.0, 'x3': 0.0, 'x4': 1333.3333}\n",
      "----------------------------------------\n",
      "Iteration 3: Coefficient of x1: 32, Objective value: 106666.664, Solution: {'x1': 0.0, 'x2': 0.0, 'x3': 0.0, 'x4': 1333.3333}\n",
      "----------------------------------------\n",
      "Iteration 4: Coefficient of x1: 33, Objective value: 106666.664, Solution: {'x1': 0.0, 'x2': 0.0, 'x3': 0.0, 'x4': 1333.3333}\n",
      "----------------------------------------\n",
      "Iteration 5: Coefficient of x1: 34, Objective value: 106666.664, Solution: {'x1': 0.0, 'x2': 0.0, 'x3': 0.0, 'x4': 1333.3333}\n",
      "----------------------------------------\n",
      "Iteration 6: Coefficient of x1: 35, Objective value: 106666.664, Solution: {'x1': 0.0, 'x2': 0.0, 'x3': 0.0, 'x4': 1333.3333}\n",
      "----------------------------------------\n",
      "Iteration 7: Coefficient of x1: 36, Objective value: 106666.664, Solution: {'x1': 0.0, 'x2': 0.0, 'x3': 0.0, 'x4': 1333.3333}\n",
      "----------------------------------------\n",
      "Iteration 8: Coefficient of x1: 37, Objective value: 106666.664, Solution: {'x1': 0.0, 'x2': 0.0, 'x3': 0.0, 'x4': 1333.3333}\n",
      "----------------------------------------\n",
      "Iteration 9: Coefficient of x1: 38, Objective value: 106666.664, Solution: {'x1': 0.0, 'x2': 0.0, 'x3': 0.0, 'x4': 1333.3333}\n",
      "----------------------------------------\n",
      "Iteration 10: Coefficient of x1: 39, Objective value: 106666.664, Solution: {'x1': 0.0, 'x2': 0.0, 'x3': 0.0, 'x4': 1333.3333}\n",
      "----------------------------------------\n",
      "Iteration 11: Coefficient of x1: 40, Objective value: 106666.664, Solution: {'x1': 0.0, 'x2': 0.0, 'x3': 0.0, 'x4': 1333.3333}\n",
      "----------------------------------------\n",
      "Iteration 12: Coefficient of x1: 41, Objective value: 106666.664, Solution: {'x1': 0.0, 'x2': 0.0, 'x3': 0.0, 'x4': 1333.3333}\n",
      "----------------------------------------\n",
      "Iteration 13: Coefficient of x1: 42, Objective value: 106666.664, Solution: {'x1': 0.0, 'x2': 0.0, 'x3': 0.0, 'x4': 1333.3333}\n",
      "----------------------------------------\n",
      "Iteration 14: Coefficient of x1: 43, Objective value: 106666.664, Solution: {'x1': 0.0, 'x2': 0.0, 'x3': 0.0, 'x4': 1333.3333}\n",
      "----------------------------------------\n",
      "Iteration 15: Coefficient of x1: 44, Objective value: 106666.664, Solution: {'x1': 0.0, 'x2': 0.0, 'x3': 0.0, 'x4': 1333.3333}\n",
      "----------------------------------------\n",
      "Iteration 16: Coefficient of x1: 45, Objective value: 106666.664, Solution: {'x1': 0.0, 'x2': 0.0, 'x3': 0.0, 'x4': 1333.3333}\n",
      "----------------------------------------\n",
      "Iteration 17: Coefficient of x1: 46, Objective value: 106666.664, Solution: {'x1': 0.0, 'x2': 0.0, 'x3': 0.0, 'x4': 1333.3333}\n",
      "----------------------------------------\n",
      "Iteration 18: Coefficient of x1: 47, Objective value: 106666.664, Solution: {'x1': 0.0, 'x2': 0.0, 'x3': 0.0, 'x4': 1333.3333}\n",
      "----------------------------------------\n",
      "Iteration 19: Coefficient of x1: 48, Objective value: 106666.664, Solution: {'x1': 0.0, 'x2': 0.0, 'x3': 0.0, 'x4': 1333.3333}\n",
      "----------------------------------------\n",
      "Iteration 20: Coefficient of x1: 49, Objective value: 106666.664, Solution: {'x1': 0.0, 'x2': 0.0, 'x3': 0.0, 'x4': 1333.3333}\n",
      "----------------------------------------\n",
      "Iteration 21: Coefficient of x1: 50, Objective value: 106666.664, Solution: {'x1': 0.0, 'x2': 0.0, 'x3': 0.0, 'x4': 1333.3333}\n",
      "----------------------------------------\n",
      "Iteration 22: Coefficient of x1: 51, Objective value: 106666.664, Solution: {'x1': 0.0, 'x2': 0.0, 'x3': 0.0, 'x4': 1333.3333}\n",
      "----------------------------------------\n",
      "Iteration 23: Coefficient of x1: 52, Objective value: 106666.664, Solution: {'x1': 0.0, 'x2': 0.0, 'x3': 0.0, 'x4': 1333.3333}\n",
      "----------------------------------------\n",
      "Iteration 24: Coefficient of x1: 53, Objective value: 106666.664, Solution: {'x1': 0.0, 'x2': 0.0, 'x3': 0.0, 'x4': 1333.3333}\n",
      "----------------------------------------\n",
      "Iteration 25: Coefficient of x1: 54, Objective value: 106666.664, Solution: {'x1': 0.0, 'x2': 0.0, 'x3': 0.0, 'x4': 1333.3333}\n",
      "----------------------------------------\n",
      "Iteration 26: Coefficient of x1: 55, Objective value: 106666.664, Solution: {'x1': 0.0, 'x2': 0.0, 'x3': 0.0, 'x4': 1333.3333}\n",
      "----------------------------------------\n",
      "Iteration 27: Coefficient of x1: 56, Objective value: 106666.664, Solution: {'x1': 0.0, 'x2': 0.0, 'x3': 0.0, 'x4': 1333.3333}\n",
      "----------------------------------------\n",
      "Iteration 28: Coefficient of x1: 57, Objective value: 106666.664, Solution: {'x1': 0.0, 'x2': 0.0, 'x3': 0.0, 'x4': 1333.3333}\n",
      "----------------------------------------\n",
      "Iteration 29: Coefficient of x1: 58, Objective value: 106666.664, Solution: {'x1': 0.0, 'x2': 0.0, 'x3': 0.0, 'x4': 1333.3333}\n",
      "----------------------------------------\n",
      "Iteration 30: Coefficient of x1: 59, Objective value: 106666.664, Solution: {'x1': 0.0, 'x2': 0.0, 'x3': 0.0, 'x4': 1333.3333}\n",
      "----------------------------------------\n",
      "Iteration 31: Coefficient of x1: 60, Objective value: 106666.664, Solution: {'x1': 0.0, 'x2': 0.0, 'x3': 0.0, 'x4': 1333.3333}\n",
      "----------------------------------------\n",
      "Iteration 32: Coefficient of x1: 61, Objective value: 106666.664, Solution: {'x1': 0.0, 'x2': 0.0, 'x3': 0.0, 'x4': 1333.3333}\n",
      "----------------------------------------\n",
      "Iteration 33: Coefficient of x1: 62, Objective value: 106666.664, Solution: {'x1': 0.0, 'x2': 0.0, 'x3': 0.0, 'x4': 1333.3333}\n",
      "----------------------------------------\n",
      "Iteration 34: Coefficient of x1: 63, Objective value: 106666.664, Solution: {'x1': 0.0, 'x2': 0.0, 'x3': 0.0, 'x4': 1333.3333}\n",
      "----------------------------------------\n",
      "Iteration 35: Coefficient of x1: 64, Objective value: 106666.664, Solution: {'x1': 0.0, 'x2': 0.0, 'x3': 0.0, 'x4': 1333.3333}\n",
      "----------------------------------------\n",
      "Iteration 36: Coefficient of x1: 65, Objective value: 106666.664, Solution: {'x1': 0.0, 'x2': 0.0, 'x3': 0.0, 'x4': 1333.3333}\n",
      "----------------------------------------\n",
      "Iteration 37: Coefficient of x1: 66, Objective value: 106666.664, Solution: {'x1': 0.0, 'x2': 0.0, 'x3': 0.0, 'x4': 1333.3333}\n",
      "----------------------------------------\n",
      "Iteration 38: Coefficient of x1: 67, Objective value: 106666.664, Solution: {'x1': 0.0, 'x2': 0.0, 'x3': 0.0, 'x4': 1333.3333}\n",
      "----------------------------------------\n",
      "Iteration 39: Coefficient of x1: 68, Objective value: 106666.664, Solution: {'x1': 0.0, 'x2': 0.0, 'x3': 0.0, 'x4': 1333.3333}\n",
      "----------------------------------------\n",
      "Iteration 40: Coefficient of x1: 69, Objective value: 106666.664, Solution: {'x1': 0.0, 'x2': 0.0, 'x3': 0.0, 'x4': 1333.3333}\n",
      "----------------------------------------\n",
      "Iteration 41: Coefficient of x1: 70, Objective value: 106666.664, Solution: {'x1': 0.0, 'x2': 0.0, 'x3': 0.0, 'x4': 1333.3333}\n",
      "----------------------------------------\n",
      "Iteration 42: Coefficient of x1: 71, Objective value: 106666.664, Solution: {'x1': 0.0, 'x2': 0.0, 'x3': 0.0, 'x4': 1333.3333}\n",
      "----------------------------------------\n",
      "Iteration 43: Coefficient of x1: 72, Objective value: 106666.664, Solution: {'x1': 0.0, 'x2': 0.0, 'x3': 0.0, 'x4': 1333.3333}\n",
      "----------------------------------------\n",
      "Iteration 44: Coefficient of x1: 73, Objective value: 106666.664, Solution: {'x1': 0.0, 'x2': 0.0, 'x3': 0.0, 'x4': 1333.3333}\n",
      "----------------------------------------\n",
      "Iteration 45: Coefficient of x1: 74, Objective value: 106666.664, Solution: {'x1': 0.0, 'x2': 0.0, 'x3': 0.0, 'x4': 1333.3333}\n",
      "----------------------------------------\n",
      "Iteration 46: Coefficient of x1: 75, Objective value: 106666.664, Solution: {'x1': 0.0, 'x2': 0.0, 'x3': 0.0, 'x4': 1333.3333}\n",
      "----------------------------------------\n",
      "Iteration 47: Coefficient of x1: 76, Objective value: 106666.664, Solution: {'x1': 0.0, 'x2': 0.0, 'x3': 0.0, 'x4': 1333.3333}\n",
      "----------------------------------------\n",
      "Iteration 48: Coefficient of x1: 77, Objective value: 106666.664, Solution: {'x1': 0.0, 'x2': 0.0, 'x3': 0.0, 'x4': 1333.3333}\n",
      "----------------------------------------\n",
      "Iteration 49: Coefficient of x1: 78, Objective value: 106666.664, Solution: {'x1': 0.0, 'x2': 0.0, 'x3': 0.0, 'x4': 1333.3333}\n",
      "----------------------------------------\n",
      "Iteration 50: Coefficient of x1: 79, Objective value: 106666.664, Solution: {'x1': 0.0, 'x2': 0.0, 'x3': 0.0, 'x4': 1333.3333}\n",
      "----------------------------------------\n",
      "Iteration 51: Coefficient of x1: 80, Objective value: 106666.664, Solution: {'x1': 0.0, 'x2': 0.0, 'x3': 0.0, 'x4': 1333.3333}\n",
      "----------------------------------------\n",
      "Iteration 52: Coefficient of x1: 81, Objective value: 106666.664, Solution: {'x1': 0.0, 'x2': 0.0, 'x3': 0.0, 'x4': 1333.3333}\n",
      "----------------------------------------\n",
      "Iteration 53: Coefficient of x1: 82, Objective value: 106666.664, Solution: {'x1': 0.0, 'x2': 0.0, 'x3': 0.0, 'x4': 1333.3333}\n",
      "----------------------------------------\n",
      "Iteration 54: Coefficient of x1: 83, Objective value: 106666.664, Solution: {'x1': 0.0, 'x2': 0.0, 'x3': 0.0, 'x4': 1333.3333}\n",
      "----------------------------------------\n",
      "Iteration 55: Coefficient of x1: 84, Objective value: 106666.664, Solution: {'x1': 0.0, 'x2': 0.0, 'x3': 0.0, 'x4': 1333.3333}\n",
      "----------------------------------------\n",
      "Iteration 56: Coefficient of x1: 85, Objective value: 106666.664, Solution: {'x1': 0.0, 'x2': 0.0, 'x3': 0.0, 'x4': 1333.3333}\n",
      "----------------------------------------\n",
      "Iteration 57: Coefficient of x1: 86, Objective value: 106666.664, Solution: {'x1': 0.0, 'x2': 0.0, 'x3': 0.0, 'x4': 1333.3333}\n",
      "----------------------------------------\n",
      "Iteration 58: Coefficient of x1: 87, Objective value: 106666.664, Solution: {'x1': 0.0, 'x2': 0.0, 'x3': 0.0, 'x4': 1333.3333}\n",
      "----------------------------------------\n",
      "Iteration 59: Coefficient of x1: 88, Objective value: 106666.664, Solution: {'x1': 0.0, 'x2': 0.0, 'x3': 0.0, 'x4': 1333.3333}\n",
      "----------------------------------------\n",
      "Iteration 60: Coefficient of x1: 89, Objective value: 106666.664, Solution: {'x1': 0.0, 'x2': 0.0, 'x3': 0.0, 'x4': 1333.3333}\n",
      "----------------------------------------\n",
      "Iteration 61: Coefficient of x1: 90, Objective value: 106666.664, Solution: {'x1': 0.0, 'x2': 0.0, 'x3': 0.0, 'x4': 1333.3333}\n",
      "----------------------------------------\n",
      "Iteration 62: Coefficient of x1: 91, Objective value: 106666.664, Solution: {'x1': 0.0, 'x2': 0.0, 'x3': 0.0, 'x4': 1333.3333}\n",
      "----------------------------------------\n",
      "Iteration 63: Coefficient of x1: 92, Objective value: 106666.664, Solution: {'x1': 0.0, 'x2': 0.0, 'x3': 0.0, 'x4': 1333.3333}\n",
      "----------------------------------------\n",
      "Iteration 64: Coefficient of x1: 93, Objective value: 106666.664, Solution: {'x1': 0.0, 'x2': 0.0, 'x3': 0.0, 'x4': 1333.3333}\n",
      "----------------------------------------\n",
      "Iteration 65: Coefficient of x1: 94, Objective value: 106666.664, Solution: {'x1': 0.0, 'x2': 0.0, 'x3': 0.0, 'x4': 1333.3333}\n",
      "----------------------------------------\n",
      "Iteration 66: Coefficient of x1: 95, Objective value: 106666.664, Solution: {'x1': 0.0, 'x2': 0.0, 'x3': 0.0, 'x4': 1333.3333}\n",
      "----------------------------------------\n",
      "Iteration 67: Coefficient of x1: 96, Objective value: 106666.664, Solution: {'x1': 0.0, 'x2': 0.0, 'x3': 0.0, 'x4': 1333.3333}\n",
      "----------------------------------------\n",
      "Iteration 68: Coefficient of x1: 97, Objective value: 106666.664, Solution: {'x1': 0.0, 'x2': 0.0, 'x3': 0.0, 'x4': 1333.3333}\n",
      "----------------------------------------\n",
      "Iteration 69: Coefficient of x1: 98, Objective value: 106666.664, Solution: {'x1': 0.0, 'x2': 0.0, 'x3': 0.0, 'x4': 1333.3333}\n",
      "----------------------------------------\n",
      "Iteration 70: Coefficient of x1: 99, Objective value: 106666.664, Solution: {'x1': 0.0, 'x2': 0.0, 'x3': 0.0, 'x4': 1333.3333}\n",
      "----------------------------------------\n",
      "Iteration 71: Coefficient of x1: 100, Objective value: 106666.664, Solution: {'x1': 0.0, 'x2': 0.0, 'x3': 0.0, 'x4': 1333.3333}\n",
      "----------------------------------------\n",
      "Iteration 72: Coefficient of x1: 101, Objective value: 106666.664, Solution: {'x1': 0.0, 'x2': 0.0, 'x3': 0.0, 'x4': 1333.3333}\n",
      "----------------------------------------\n",
      "Iteration 73: Coefficient of x1: 102, Objective value: 106666.664, Solution: {'x1': 0.0, 'x2': 0.0, 'x3': 0.0, 'x4': 1333.3333}\n",
      "----------------------------------------\n",
      "Iteration 74: Coefficient of x1: 103, Objective value: 106666.664, Solution: {'x1': 0.0, 'x2': 0.0, 'x3': 0.0, 'x4': 1333.3333}\n",
      "----------------------------------------\n",
      "Iteration 75: Coefficient of x1: 104, Objective value: 106666.664, Solution: {'x1': 0.0, 'x2': 0.0, 'x3': 0.0, 'x4': 1333.3333}\n",
      "----------------------------------------\n",
      "Iteration 76: Coefficient of x1: 105, Objective value: 106666.664, Solution: {'x1': 0.0, 'x2': 0.0, 'x3': 0.0, 'x4': 1333.3333}\n",
      "----------------------------------------\n",
      "Iteration 77: Coefficient of x1: 106, Objective value: 106666.664, Solution: {'x1': 0.0, 'x2': 0.0, 'x3': 0.0, 'x4': 1333.3333}\n",
      "----------------------------------------\n",
      "Iteration 78: Coefficient of x1: 107, Objective value: 107000.0, Solution: {'x1': 1000.0, 'x2': 0.0, 'x3': 0.0, 'x4': 0.0}\n",
      "----------------------------------------\n",
      "Optimal basis changed at coefficient 107.\n",
      "\n",
      "The allowable increase for x1 is: 77\n"
     ]
    }
   ],
   "source": [
    "from helpers import find_allowable_increase\n",
    "\n",
    "# setting verbose to False since we take smaller steps for this variable and don't want to print every iteration\n",
    "allowable_increase = find_allowable_increase(base_model=main_model, var_name=\"x1\", base_coef=30, step=1, max_iter=100, verbose=True)\n",
    "\n",
    "print(f\"The allowable increase for x1 is: {allowable_increase}\")"
   ]
  },
  {
   "cell_type": "markdown",
   "id": "6704a335",
   "metadata": {},
   "source": [
    "## 3b) (3 points)\n",
    "Would they be profitable to produce if they sold for the same amount as professional quality trombones? What would make them profitable to produce (intuitive explanation is expected, not specific numbers)?"
   ]
  },
  {
   "cell_type": "markdown",
   "id": "88a39c0e",
   "metadata": {},
   "source": [
    "### Solution:\n",
    "\n",
    "Same deal as above. If novice and professional trombones make the same profit per sale, it is more profitable to sell novice ones since more of them can be made with the same amount of time. "
   ]
  },
  {
   "cell_type": "markdown",
   "id": "f37755c5",
   "metadata": {},
   "source": [
    "# Problem 4: Sensitivity of Professional Quality Trumpets (2 points)\n",
    "\n",
    "What would happen to the optimal solution if the price of professional quality trumpets fell to $100? If there is a change, what would the new production plan and optimal profit be?\n",
    "\n",
    "Provide your analysis and corresponding code below."
   ]
  },
  {
   "cell_type": "markdown",
   "id": "b360bf22",
   "metadata": {},
   "source": [
    "### Solution:\n",
    "\n",
    "If such price change happens, the optimal profit would be less since we loss the top yielding product. The new top yielding product is professional trombones, with a profit of $100 per sale. This is $20 per sale more than professional trumpets; however, it takes 5 hours to produce a professional trombone as opposed to 4 hours to produce a professional trumpet. Ultimately, with the 6000 hours given, it would have been more profitable to produce professional trumpets if they yield $80 per sale, but not when they yield $70 per sale. In conclusion, if the price of professional quality trumpets fell to $100 per sale, the production plan would change to solely producing professional trombones for the optimal profit to be $100,000."
   ]
  },
  {
   "cell_type": "code",
   "execution_count": null,
   "id": "bec5fa2c",
   "metadata": {},
   "outputs": [
    {
     "name": "stdout",
     "output_type": "stream",
     "text": [
      "Sensitivity Analysis for Professional Quality Trumpets (Price = $100):\n",
      "Objective value (Profit): 100000.0\n",
      "x1: 0.0\n",
      "x2: 1000.0\n",
      "x3: 0.0\n",
      "x4: 0.0\n"
     ]
    }
   ],
   "source": [
    "low_trumpet_model = LpProblem(name=\"instrument-production\", sense=LpMaximize)\n",
    "\n",
    "# Define variables\n",
    "x1 = LpVariable(name=\"x1\", lowBound=0)  # Novice Trombone\n",
    "x2 = LpVariable(name=\"x2\", lowBound=0)  # Professional Trombone\n",
    "x3 = LpVariable(name=\"x3\", lowBound=0)  # Novice Trumpet\n",
    "x4 = LpVariable(name=\"x4\", lowBound=0)  # Professional Trumpet\n",
    "\n",
    "# Re-define Objective function\n",
    "low_trumpet_model = LpProblem(name=\"instrument-production\", sense=LpMaximize)\n",
    "\n",
    "# Constraints\n",
    "low_trumpet_model += 30*x1 + 100*x2 + 30*x3 + 70*x4, \"Profit\"\n",
    "low_trumpet_model += 40 * x1 + 40 * x2 + 30 * x3 + 30 * x4 <= 40000, \"Metal Sheet Constraint\"\n",
    "low_trumpet_model += 2 * x1 + 5 * x2 + 2 * x3 + 4 * x4 <= 6000, \"Skilled Labor Constraint\"\n",
    "\n",
    "# Solve the low_trumpet_model\n",
    "low_trumpet_model.solve(PULP_CBC_CMD(msg=0))\n",
    "\n",
    "# Display results\n",
    "print(\"Sensitivity Analysis for Professional Quality Trumpets (Price = $100):\")\n",
    "print(f\"Objective value (Profit): {low_trumpet_model.objective.value()}\")\n",
    "for var in low_trumpet_model.variables():\n",
    "    print(f\"{var.name}: {var.value()}\")"
   ]
  },
  {
   "cell_type": "markdown",
   "metadata": {},
   "source": [
    "# Problem 5: Sensitivity of Metal Resources (8 points)\n",
    "\n",
    "## 5a) (4 points)\n",
    "How do production plans change when metal supplies change? At which point does metal stop being a limiting resource and how do you know?\n",
    "\n",
    "**HINT**: To find out how the production plans change when metal supplies change, you can use a **guess-and-check approach**. \n",
    "\n",
    "1. Start with the current RHS of the \"Metal Sheet Constraint\" (40,000 square inches).\n",
    "2. Gradually increase or decrease the RHS (e.g., by 1,000 or 5,000 units at a time).\n",
    "3. For each adjustment:\n",
    "   - Re-run to solve the problem and record the production plan (values of x_1, x_2, x_3, x_4) and the total profit.\n",
    "   - Compare the new solution to the original solution (at RHS = 40,000).\n",
    "4. Stop increasing when you notice the production plan has stopped changing. The last RHS value before the variable values stop changing is the **RHS Tolerance Upper Bound**.\n",
    "5. Stop decreasing when the model becomes infeasible. The last RHS value before the model becomes infeasible is the **RHS Tolerance Lower Bound**."
   ]
  },
  {
   "cell_type": "markdown",
   "id": "cb50a10c",
   "metadata": {},
   "source": [
    "### Solution:\n",
    "- Upper Bound: $45000\n",
    "```\n",
    "Total Profit: $120000.00\n",
    "Production Plan:\n",
    "  x1: 0.0\n",
    "  x2: 0.0\n",
    "  x3: 0.0\n",
    "  x4: 1500.0\n",
    "\n",
    "Slack Values for Constraints:\n",
    "  Metal_Sheet_Constraint: RHS = -45000, slack = -0.0\n",
    "  Skilled_Labor_Constraint: RHS = -6000, slack = -0.0\n",
    "```\n",
    "- Lower Bound: $0\n",
    "```\n",
    "Total Profit: $0.00\n",
    "Production Plan:\n",
    "  x1: 0.0\n",
    "  x2: 0.0\n",
    "  x3: 0.0\n",
    "  x4: 0.0\n",
    "\n",
    "Slack Values for Constraints:\n",
    "  Metal_Sheet_Constraint: RHS = 10, slack = 0.0\n",
    "  Skilled_Labor_Constraint: RHS = -6000, slack = 6000.0\n",
    "```"
   ]
  },
  {
   "cell_type": "code",
   "execution_count": null,
   "id": "ebf988d0",
   "metadata": {},
   "outputs": [
    {
     "name": "stdout",
     "output_type": "stream",
     "text": [
      "Initial Solution:\n",
      "Total Profit: $106666.66\n",
      "Production Plan:\n",
      "  x1: 0.0\n",
      "  x2: 0.0\n",
      "  x3: 0.0\n",
      "  x4: 1333.3333\n",
      "\n",
      "Slack Values for Constraints:\n",
      "  Metal_Sheet_Constraint: RHS = -40000, slack = -0.0\n",
      "  Skilled_Labor_Constraint: RHS = -6000, slack = 666.6666999999998\n",
      "---------------------------------------------\n",
      "After Adjusting Metal Sheet Constraint:\n",
      "Model Solution Status: Optimal\n",
      "Total Profit: $0.00\n",
      "Production Plan:\n",
      "  x1: 0.0\n",
      "  x2: 0.0\n",
      "  x3: 0.0\n",
      "  x4: 0.0\n",
      "\n",
      "Slack Values for Constraints:\n",
      "  Metal_Sheet_Constraint: RHS = 0, slack = -0.0\n",
      "  Skilled_Labor_Constraint: RHS = -6000, slack = 6000.0\n"
     ]
    }
   ],
   "source": [
    "rhs_tol_model = copy.deepcopy(main_model)\n",
    "\n",
    "# Print the results\n",
    "print(\"Initial Solution:\")\n",
    "print(f\"Total Profit: ${rhs_tol_model.objective.value():.2f}\")\n",
    "print(\"Production Plan:\")\n",
    "for var in rhs_tol_model.variables():\n",
    "    print(f\"  {var.name}: {var.varValue}\")\n",
    "\n",
    "# Check slack for each constraint\n",
    "print(\"\\nSlack Values for Constraints:\")\n",
    "for name, constraint in rhs_tol_model.constraints.items():\n",
    "    print(f\"  {name}: RHS = {constraint.constant}, slack = {constraint.slack}\")\n",
    "\n",
    "# ---------------------------------------------\n",
    "# Guess-and-Check Setup\n",
    "# ---------------------------------------------\n",
    "# Change the RHS of the \"Metal Sheet Constraint\" below and re-run this block of code.\n",
    "rhs_tol_model.constraints[\"Metal_Sheet_Constraint\"].changeRHS(40000)  # TODO: Change this value\n",
    "\n",
    "print(\"---------------------------------------------\")\n",
    "print(\"After Adjusting Metal Sheet Constraint:\")\n",
    "\n",
    "# Re-solve the problem\n",
    "rhs_tol_model.solve(PULP_CBC_CMD(msg=0))\n",
    "print(f\"Model Solution Status: {LpStatus[rhs_tol_model.status]}\")\n",
    "\n",
    "# Print updated results\n",
    "print(f\"Total Profit: ${rhs_tol_model.objective.value():.2f}\")\n",
    "print(\"Production Plan:\")\n",
    "for var in rhs_tol_model.variables():\n",
    "    print(f\"  {var.name}: {var.varValue}\")\n",
    "\n",
    "# Check slack for each constraint\n",
    "print(\"\\nSlack Values for Constraints:\")\n",
    "for name, constraint in rhs_tol_model.constraints.items():\n",
    "    print(f\"  {name}: RHS = {constraint.constant}, slack = {constraint.slack}\")"
   ]
  },
  {
   "cell_type": "markdown",
   "id": "2f8cd676",
   "metadata": {},
   "source": [
    "## 5b) (4 points)\n",
    "**What is the shadow price of metal?**  \n",
    "1. Explain the concept of a shadow price in the context of the \"Metal Sheet Constraint\" and how it impacts the objective function (profit).  \n",
    "2. Using the shadow price, calculate how much the profit is expected to change if the metal supplies increase by 500 square inches.  \n",
    "3. Solve the problem again with the increased metal supplies and verify the expected profit change and the new production plan.\n",
    "\n",
    "Use the following formula for profit change:  \n",
    "$$ \\Delta profit = \\Delta \\text{metal supplies quantity} \\cdot dual_{metal} $$\n",
    "\n",
    "---\n",
    "\n",
    "### HINT\n",
    "\n",
    "1. **What is the Shadow Price?**  \n",
    "   The shadow price (also called the dual value) of a constraint tells you how much the objective value (profit) will change per unit increase in the RHS of the constraint, as long as the change is within the **RHS tolerance interval**.\n",
    "\n",
    "2. **How to Find the Shadow Price?**  \n",
    "   - Solve the LP model with the original RHS.\n",
    "   - Check the **dual value** (`constraint.pi`) of the \"Metal Sheet Constraint\" in the solver's output. This is the shadow price.\n",
    "\n",
    "3. **Useful Methods**\n",
    "   - Use `shadow_model.constraints[\"Metal_Sheet_Constraint\"].changeRHS(new_rhs)` to update the RHS of the \"Metal Sheet Constraint\""
   ]
  },
  {
   "cell_type": "markdown",
   "metadata": {},
   "source": [
    "### Solution:\n",
    "\n",
    "1. A shadow price represents how much our objective function or profit would increase if we got one more unit of the resource. For the metal sheet constraint, the shadow price tells us how much additional profit we could make if we had one more square inch of metal available.\n",
    "\n",
    "2. If we were to add 500 square inches, with the shadow price of metal being 1 dollar/square inch:\n",
    "$$ \\Delta profit = 500 \\cdot 2.6666667 \\approx \\$1333.33335$$"
   ]
  },
  {
   "cell_type": "code",
   "execution_count": 89,
   "id": "2310a05f",
   "metadata": {},
   "outputs": [
    {
     "name": "stdout",
     "output_type": "stream",
     "text": [
      "Model Solution Status: Optimal\n",
      "Total Profit: $106666.66\n",
      "Production Plan:\n",
      "  x1: 0.0\n",
      "  x2: 0.0\n",
      "  x3: 0.0\n",
      "  x4: 1333.3333\n",
      "Metal_Sheet_Constraint: RHS = -40000, shadow value = 2.6666667\n",
      "---------------------------------------------\n",
      "After Increasing Metal Supply:\n",
      "\n",
      "New Results with Increased Metal Supply:\n",
      "New Profit: $108000.00, change: $1333.34\n",
      "Production Plan:\n",
      "  x1: 0.0\n",
      "  x2: 0.0\n",
      "  x3: 0.0\n",
      "  x4: 1350.0\n"
     ]
    }
   ],
   "source": [
    "shadow_model = copy.deepcopy(main_model)\n",
    "\n",
    "# Solve LP model with original RHS\n",
    "shadow_model.solve(PULP_CBC_CMD(msg=0))\n",
    "print(f\"Model Solution Status: {LpStatus[shadow_model.status]}\")\n",
    "\n",
    "old_profit = shadow_model.objective.value()\n",
    "# Print old results\n",
    "print(f\"Total Profit: ${shadow_model.objective.value():.2f}\")\n",
    "print(\"Production Plan:\")\n",
    "for var in shadow_model.variables():\n",
    "    print(f\"  {var.name}: {var.varValue}\")\n",
    "\n",
    "# Check shadow value\n",
    "for name, constraint in shadow_model.constraints.items():\n",
    "    print(f\"{name}: RHS = {constraint.constant}, shadow value = {constraint.pi}\")\n",
    "    break\n",
    "\n",
    "# Update RHS\n",
    "metal_shadow_price = shadow_model.constraints[\"Metal_Sheet_Constraint\"].changeRHS(40500)\n",
    "\n",
    "print(\"---------------------------------------------\")\n",
    "print(\"After Increasing Metal Supply:\")\n",
    "shadow_model.solve(PULP_CBC_CMD(msg=0))\n",
    "\n",
    "# Display the new results\n",
    "print(\"\\nNew Results with Increased Metal Supply:\")\n",
    "print(f\"New Profit: ${shadow_model.objective.value():.2f}, change: ${shadow_model.objective.value() - old_profit:.2f}\")\n",
    "print(\"Production Plan:\")\n",
    "for var in shadow_model.variables():\n",
    "    print(f\"  {var.name}: {var.value()}\")"
   ]
  },
  {
   "cell_type": "markdown",
   "id": "adee66b0",
   "metadata": {},
   "source": [
    "# Problem 6: Sensitivity of Labor Resources (5 points)\n",
    "\n",
    "## 6a) (1 point)\n",
    "How much labor is unused?\n",
    "\n",
    "HINT: What is the slack?\n",
    "\n",
    "ANSWER: 666.6666999999998 skilled labor hour is unused"
   ]
  },
  {
   "cell_type": "code",
   "execution_count": 96,
   "id": "9d739b21",
   "metadata": {},
   "outputs": [
    {
     "name": "stdout",
     "output_type": "stream",
     "text": [
      "Slack for Skilled Labor Constraint: 666.6666999999998\n"
     ]
    }
   ],
   "source": [
    "labor_model = copy.deepcopy(main_model)\n",
    "\n",
    "# Solve LP model with original RHS\n",
    "labor_model.solve(PULP_CBC_CMD(msg=0))\n",
    "print(f\"Slack for Skilled Labor Constraint: {labor_model.constraints['Skilled_Labor_Constraint'].slack}\")\n"
   ]
  },
  {
   "cell_type": "markdown",
   "id": "b90c54ba",
   "metadata": {},
   "source": [
    "## 6b) (2 points)\n",
    "How much would you be willing to pay an additional laborer?"
   ]
  },
  {
   "cell_type": "markdown",
   "id": "c4bdb9c6",
   "metadata": {},
   "source": [
    "### Solution:\n",
    "\n",
    "Our objective function already reached optimal profit with labor slack of almost 667 hours. It is wise not to pay any additional laborer."
   ]
  },
  {
   "cell_type": "markdown",
   "id": "81eb7c5e",
   "metadata": {},
   "source": [
    "## 6c) (2 points)\n",
    "Suppose that industrial regulation complicate the process so it takes an additional hour of labor to turn a novice quality instrument into a professional quality instrument. How and why does that change affect the optimal production plan and profit?"
   ]
  },
  {
   "cell_type": "markdown",
   "id": "7c448e21",
   "metadata": {},
   "source": [
    "### Solution:\n",
    "\n",
    "If such events happen, the overall profit would decrease becuase we can produce fewer professional instruments with the same labor, or this chnage from industrial regulation might make professional instruments relatively less attractive to produce and we might need to shift to less profitable novice instruments."
   ]
  },
  {
   "cell_type": "markdown",
   "id": "b44af695",
   "metadata": {},
   "source": [
    "# Problem 7: Sensitivity of New Constraint (5 points)\n",
    "\n",
    "## 7a) (4 points)\n",
    "The owner of the company comes up with a design for a beautiful hand-crafted tuba. Each tuba requires 250 hours of labor (6.25 weeks of full time work) and uses 50 square inches of metal. If the company can sell tubas for $200, would it be worthwhile to produce? Use:\n",
    "$$ \\text{(marginal cost of metal)}_{tuba} = \\text{(metal used)}_{tuba} \\cdot dual_{metal} $$\n",
    "\n",
    "Discuss how looking at the shadow prices of metal and labor can help you intuit whether diverting metal resources to tuba production is a good idea. Check your intuition with the solver."
   ]
  },
  {
   "cell_type": "markdown",
   "id": "eb32cc6f",
   "metadata": {},
   "source": [
    "### Solution:\n",
    "Marginal cost of metal for tuba: $$ \\text{marginal cost of metal}_{tuba} = 50 \\cdot \\$2.6666667 \\approx \\$133 $$\n",
    "\n",
    "The high shadow prices tell us our current resources are being used very efficiently to produce other instruments. Each square inch of metal generates $2.66 in profit in current production. Before tuba, we had a lot of slack in our labor hour constraint. The tuba uses large amounts of both resources (50 sq inches and 250 hours) and also brings back a lot of profit ($200). The opportunity cost is very high because we'd have to divert metal resources from more profitable uses. However, it's worth considering that we have a lot of unused labor hour. The fact that tubas are included in the solution below suggests that the profit they generate outweighs the opportunity cost of the metal they consume, making the value they add to the objective function is still positive. Thus, despite for competing for metal resources with professional trumpets, tubas are included in the production plan because they make good use of otherwise unused labor. The trade-off between using metal for professional trumpets vs. tubas is optimal given the available resources as we can see from the 0 slack presented below from the solver."
   ]
  },
  {
   "cell_type": "code",
   "execution_count": 104,
   "id": "88769b7e",
   "metadata": {},
   "outputs": [
    {
     "name": "stdout",
     "output_type": "stream",
     "text": [
      "Objective value (Profit): 106712.3269\n",
      "x1 0.0\n",
      "x2 0.0\n",
      "x3 0.0\n",
      "x4 1328.7671\n",
      "x5 2.739726\n",
      "\n",
      "Slack Values for Constraints:\n",
      "  Metal_Sheet_Constraint: RHS = -40000, slack = -0.0, shadow value = 2.6575342\n",
      "  Skilled_Labor_Constraint: RHS = -6000, slack = -0.0, shadow value = 0.068493151\n"
     ]
    }
   ],
   "source": [
    "from pulp import LpMaximize, LpProblem, LpVariable, value\n",
    "\n",
    "# Define the problem\n",
    "tuba_model = LpProblem(name=\"instrument-production\", sense=LpMaximize)\n",
    "\n",
    "# Define variables\n",
    "x1 = LpVariable(name=\"x1\", lowBound=0)  # Novice Trombone\n",
    "x2 = LpVariable(name=\"x2\", lowBound=0)  # Professional Trombone\n",
    "x3 = LpVariable(name=\"x3\", lowBound=0)  # Novice Trumpet\n",
    "x4 = LpVariable(name=\"x4\", lowBound=0)  # Professional Trumpet\n",
    "x5 = LpVariable(name=\"x5\", lowBound=0)  # Tubas\n",
    "\n",
    "# Define the problem and analyze the shadow prices\n",
    "# Objective function\n",
    "tuba_model += 30*x1 + 100*x2 + 30*x3 + 80*x4 + 150*x5, \"Profit\"\n",
    "\n",
    "# Constraints\n",
    "# 1. Total metal sheet used\n",
    "tuba_model += 40*x1 + 40*x2 + 30*x3 + 30*x4 + 50*x5 <= 40000, \"Metal Sheet Constraint\"\n",
    "\n",
    "# 2. Total skilled labor hours used\n",
    "tuba_model += 2*x1 + 5*x2 + 2*x3 + 4*x4 +250*x5 <= 6000, \"Skilled Labor Constraint\"\n",
    "\n",
    "# 3. Non-negativity constraints (already enforced by lowBound=0 in variable definition)\n",
    "# Solve the problem\n",
    "tuba_model.solve(PULP_CBC_CMD(msg=0))\n",
    "# Display results\n",
    "print(f\"Objective value (Profit): {tuba_model.objective.value()}\")\n",
    "for var in tuba_model.variables():\n",
    "    print(var.name, var.value())\n",
    "# Check slack for each constraint\n",
    "print(\"\\nSlack Values for Constraints:\")\n",
    "for name, constraint in tuba_model.constraints.items():\n",
    "    print(f\"  {name}: RHS = {constraint.constant}, slack = {constraint.slack}, shadow value = {constraint.pi}\")"
   ]
  },
  {
   "cell_type": "markdown",
   "id": "d6cda587",
   "metadata": {},
   "source": [
    "## 7b) (1 point)\n",
    "Is it profitable if tubas sell for $150? Why?"
   ]
  },
  {
   "cell_type": "markdown",
   "id": "4aea90da",
   "metadata": {},
   "source": [
    "### Solution:\n",
    "\n",
    "The metal constraint was already binding in the above solution. This means that every additional unit of metal allocated to tubas must come at the expense of professional trumpets. Now given that they sell for less, they would be less desirable to produce. We can verify it from the model result below."
   ]
  },
  {
   "cell_type": "code",
   "execution_count": 106,
   "id": "07f63b1c",
   "metadata": {},
   "outputs": [
    {
     "name": "stdout",
     "output_type": "stream",
     "text": [
      "Objective value (Profit): 106666.664\n",
      "x1 0.0\n",
      "x2 0.0\n",
      "x3 0.0\n",
      "x4 1333.3333\n",
      "x5 0.0\n",
      "\n",
      "Slack Values for Constraints:\n",
      "  Metal_Sheet_Constraint: RHS = -40000, slack = -0.0, shadow value = 2.6666667\n",
      "  Skilled_Labor_Constraint: RHS = -6000, slack = 666.6666999999998, shadow value = -0.0\n"
     ]
    }
   ],
   "source": [
    "from pulp import LpMaximize, LpProblem, LpVariable, value\n",
    "\n",
    "# Define the problem\n",
    "tuba_model2 = LpProblem(name=\"instrument-production\", sense=LpMaximize)\n",
    "\n",
    "# Define variables\n",
    "x1 = LpVariable(name=\"x1\", lowBound=0)  # Novice Trombone\n",
    "x2 = LpVariable(name=\"x2\", lowBound=0)  # Professional Trombone\n",
    "x3 = LpVariable(name=\"x3\", lowBound=0)  # Novice Trumpet\n",
    "x4 = LpVariable(name=\"x4\", lowBound=0)  # Professional Trumpet\n",
    "x5 = LpVariable(name=\"x5\", lowBound=0)  # Tubas\n",
    "\n",
    "# Define the problem and analyze the shadow prices\n",
    "# Objective function\n",
    "tuba_model2 += 30*x1 + 100*x2 + 30*x3 + 80*x4 + 50*x5, \"Profit\"\n",
    "\n",
    "# Constraints\n",
    "# 1. Total metal sheet used\n",
    "tuba_model2 += 40*x1 + 40*x2 + 30*x3 + 30*x4 + 50*x5 <= 40000, \"Metal Sheet Constraint\"\n",
    "\n",
    "# 2. Total skilled labor hours used\n",
    "tuba_model2 += 2*x1 + 5*x2 + 2*x3 + 4*x4 +250*x5 <= 6000, \"Skilled Labor Constraint\"\n",
    "\n",
    "# 3. Non-negativity constraints (already enforced by lowBound=0 in variable definition)\n",
    "# Solve the problem\n",
    "tuba_model2.solve(PULP_CBC_CMD(msg=0))\n",
    "# Display results\n",
    "print(f\"Objective value (Profit): {tuba_model2.objective.value()}\")\n",
    "for var in tuba_model2.variables():\n",
    "    print(var.name, var.value())\n",
    "# Check slack for each constraint\n",
    "print(\"\\nSlack Values for Constraints:\")\n",
    "for name, constraint in tuba_model2.constraints.items():\n",
    "    print(f\"  {name}: RHS = {constraint.constant}, slack = {constraint.slack}, shadow value = {constraint.pi}\")"
   ]
  },
  {
   "cell_type": "markdown",
   "id": "da67b98b",
   "metadata": {},
   "source": [
    "# Problem 8: Making Sense of the Dual Problem (5 points)\n",
    "\n",
    "## 8a) (3 points)\n",
    "Set up the original problem’s corresponding dual LP. Write an objective function that maximizes profits (market price - production costs) and all dual constraints.\n",
    "\n",
    "Objective Function: $$ W = 40,000SM + 6,000LH$$\n",
    "Constraints:\n",
    "- Novice Trombone: $$40SM + 2LH \\ge 30$$\n",
    "- Professional Trombone: $$40SM + 5LH \\ge 100$$\n",
    "- Novice Trumpet: $$30SM + 2LH \\ge 30$$\n",
    "- Professional Trumpet: $$30SM + 4LH \\ge 80$$\n",
    "- Non-negativity constraints: $$ SM, LH \\geq 0 $$"
   ]
  },
  {
   "cell_type": "code",
   "execution_count": 4,
   "id": "bacea266",
   "metadata": {},
   "outputs": [],
   "source": [
    "from pulp import LpMinimize, LpProblem, LpVariable, PULP_CBC_CMD\n",
    "\n",
    "# Define the dual problem\n",
    "dual_model = LpProblem(name=\"dual-instrument-production\", sense=LpMinimize)\n",
    "\n",
    "# Define variables\n",
    "y1 = LpVariable(name=\"y1\", lowBound=0)  # Sheet Metal (SM)\n",
    "y2 = LpVariable(name=\"y2\", lowBound=0)  # Labor Hour (LH)\n",
    "\n",
    "# Objective function\n",
    "dual_model += 40000*y1 + 6000*y2, \"Cost\"\n",
    "\n",
    "# Constraints\n",
    "dual_model += 40*y1 + 2*y2 >= 30, \"Novice Trombone Constraint\"\n",
    "dual_model += 40*y1 + 5*y2 >= 100, \"Professional Trombone Constraint\"\n",
    "dual_model += 30*y1 + 2*y2 >= 30, \"Novice Trumpet Constraint\"\n",
    "dual_model += 30*y1 + 4*y2 >= 80, \"Professional Trumpet Constraint\"\n",
    "\n",
    "# 3. Non-negativity constraints (already enforced by lowBound=0 in variable definition)"
   ]
  },
  {
   "cell_type": "markdown",
   "id": "746316b3",
   "metadata": {},
   "source": [
    "## 8b) (1 point)\n",
    "Run the code block below to solve the problem. What is the optimal profit? Give a plot of the constraints (you can use this [example](https://github.com/hakeemrehman/Python-PuLP-/blob/master/LP%20Using%20PuLP%20and%20Graphical%20Sol..ipynb) for guidance)."
   ]
  },
  {
   "cell_type": "code",
   "execution_count": 5,
   "id": "8fc9d1fd",
   "metadata": {},
   "outputs": [
    {
     "name": "stdout",
     "output_type": "stream",
     "text": [
      "Dual Problem Results:\n",
      "Optimal Value (Total Resource Value): 106666.66799999999\n"
     ]
    }
   ],
   "source": [
    "# Solve the dual problem\n",
    "dual_model.solve(PULP_CBC_CMD(msg=0))\n",
    "\n",
    "# Display the results\n",
    "print(\"Dual Problem Results:\")\n",
    "print(f\"Optimal Value (Total Resource Value): {dual_model.objective.value()}\")"
   ]
  },
  {
   "cell_type": "code",
   "execution_count": 13,
   "id": "8ad867df",
   "metadata": {},
   "outputs": [
    {
     "data": {
      "image/png": "[encoded data removed]",
      "text/plain": [
       "<Figure size 640x480 with 1 Axes>"
      ]
     },
     "metadata": {},
     "output_type": "display_data"
    }
   ],
   "source": [
    "import matplotlib.pyplot as plt\n",
    "import numpy as np\n",
    "\n",
    "# Plot constraint lines\n",
    "y = np.arange(0, 4)\n",
    "plt.plot(y, ((30 - 40 * y) / 2), label=\"40y_1 + 2y_2 >= 30\")\n",
    "plt.plot(y, ((100 - 40 * y) / 5), label=\"40y_1 + 5y_2 >= 100\")\n",
    "plt.plot(y, ((30 - 30 * y) / 2), label=\"30y_1 + 2y_2 >= 30\")\n",
    "plt.plot(y, ((80 - 30 * y) / 4), label=\"30y_1 + 4y_2 >= 80\")\n",
    "\n",
    "plt.axis([0, 3, 0, 20])\n",
    "plt.grid(True)\n",
    "plt.legend()\n",
    "plt.show()"
   ]
  },
  {
   "cell_type": "markdown",
   "id": "0043540e",
   "metadata": {},
   "source": [
    "## 8c) (1 point)\n",
    "Say something about the relationship between dual variables and slackness in the primal and dual problem."
   ]
  },
  {
   "cell_type": "markdown",
   "id": "d92f9648",
   "metadata": {},
   "source": [
    "### Solution:\n",
    "\n",
    "The Duality Theorem implies a relationship between the primal and dual that is known as complementary slackness, which is the relationship between the slackness in a primal constraint and the slackness of the associated dual variable.\n",
    "- If a primal constraint is non-binding (there is slack), then its corresponding dual variable must be zero.\n",
    "- If a primal constraint is binding (it is tight), then the corresponding dual variable must be positive.\n",
    "\n",
    "In our original scenario, the metal sheet constraint has zero slack, meaning it is fully utilized and binding. This implies that the corresponding dual variable is positive, indicating that increasing the available metal would increase profit. The skilled labor constraint has a positive slack of 666.67 hours, meaning that not all available labor is being used. This suggests that the corresponding dual variable is zero, meaning increasing available skilled labor would not improve profitability.\n",
    "\n"
   ]
  }
 ],
 "metadata": {
  "kernelspec": {
   "display_name": "venv",
   "language": "python",
   "name": "python3"
  },
  "language_info": {
   "codemirror_mode": {
    "name": "ipython",
    "version": 3
   },
   "file_extension": ".py",
   "mimetype": "text/x-python",
   "name": "python",
   "nbconvert_exporter": "python",
   "pygments_lexer": "ipython3",
   "version": "3.9.6"
  }
 },
 "nbformat": 4,
 "nbformat_minor": 5
}
